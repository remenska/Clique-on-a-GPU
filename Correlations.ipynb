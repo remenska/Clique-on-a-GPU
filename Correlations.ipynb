{
 "cells": [
  {
   "cell_type": "code",
   "execution_count": 1,
   "metadata": {
    "collapsed": true
   },
   "outputs": [],
   "source": [
    "import numpy as np\n",
    "correlations = np.load(\"./correlations.pkl.npy\")\n",
    "check = np.load(\"./check.pkl.npy\")"
   ]
  },
  {
   "cell_type": "code",
   "execution_count": 2,
   "metadata": {
    "collapsed": true
   },
   "outputs": [],
   "source": [
    "import matplotlib.pyplot as plt\n",
    "%matplotlib inline"
   ]
  },
  {
   "cell_type": "code",
   "execution_count": 3,
   "metadata": {
    "collapsed": false
   },
   "outputs": [
    {
     "data": {
      "text/plain": [
       "<matplotlib.image.AxesImage at 0x10a7839e8>"
      ]
     },
     "execution_count": 3,
     "metadata": {},
     "output_type": "execute_result"
    },
    {
     "data": {
      "image/png": "[encoded data removed]",
      "text/plain": [
       "<matplotlib.figure.Figure at 0x10a783a20>"
      ]
     },
     "metadata": {},
     "output_type": "display_data"
    }
   ],
   "source": [
    "# GPU correlations (symptomatic that the first diagonals (8-blocks) are 0 (== black) always\n",
    "fig, ax = plt.subplots(figsize=(15, 15))\n",
    "ax.imshow(correlations, cmap=\"gray\", interpolation=\"none\")"
   ]
  },
  {
   "cell_type": "code",
   "execution_count": 4,
   "metadata": {
    "collapsed": false
   },
   "outputs": [
    {
     "data": {
      "text/plain": [
       "<matplotlib.image.AxesImage at 0x10f1f67b8>"
      ]
     },
     "execution_count": 4,
     "metadata": {},
     "output_type": "execute_result"
    },
    {
     "data": {
      "image/png": "[encoded data removed]",
      "text/plain": [
       "<matplotlib.figure.Figure at 0x10f797c18>"
      ]
     },
     "metadata": {},
     "output_type": "display_data"
    }
   ],
   "source": [
    "# Ground truth (seems wrong...diagonal not white == 1)\n",
    "fig, ax = plt.subplots(figsize=(15, 15))\n",
    "ax.imshow(check, cmap=\"gray\", interpolation=\"none\")"
   ]
  },
  {
   "cell_type": "code",
   "execution_count": 5,
   "metadata": {
    "collapsed": false
   },
   "outputs": [
    {
     "data": {
      "text/plain": [
       "(81, 27)"
      ]
     },
     "execution_count": 5,
     "metadata": {},
     "output_type": "execute_result"
    }
   ],
   "source": [
    "check.shape"
   ]
  },
  {
   "cell_type": "code",
   "execution_count": 6,
   "metadata": {
    "collapsed": false
   },
   "outputs": [
    {
     "data": {
      "text/plain": [
       "<matplotlib.image.AxesImage at 0x10f1fe8d0>"
      ]
     },
     "execution_count": 6,
     "metadata": {},
     "output_type": "execute_result"
    },
    {
     "data": {
      "image/png": "[encoded data removed]",
      "text/plain": [
       "<matplotlib.figure.Figure at 0x10f1fe4a8>"
      ]
     },
     "metadata": {},
     "output_type": "display_data"
    }
   ],
   "source": [
    "# let's do it again, recalculate ground truth \n",
    "# 27 is the last number where there is a \"full==54\" sliding window to check in the future (27+54=81)\n",
    "x = np.load(\"./x.pkl.npy\")\n",
    "y = np.load(\"./y.pkl.npy\")\n",
    "z = np.load(\"./z.pkl.npy\")\n",
    "ct = np.load(\"./ct.pkl.npy\")\n",
    "check1 = np.zeros_like(correlations)\n",
    "sliding_window = check1.shape[1]\n",
    "for i in range(check1.shape[0]):\n",
    "    for j in range(i , max(sliding_window + i, sliding_window)):\n",
    "        if j < check1.shape[0]:\n",
    "            if (ct[i]-ct[j])**2 <= (x[i]-x[j])**2  + (y[i] - y[j])**2 + (z[i] - z[j])**2:\n",
    "                check1[i, j-i] = 1\n",
    "                \n",
    "fig, ax = plt.subplots(figsize=(15, 15))\n",
    "ax.imshow(check1, cmap=\"gray\", interpolation=\"none\")"
   ]
  },
  {
   "cell_type": "code",
   "execution_count": 240,
   "metadata": {
    "collapsed": false
   },
   "outputs": [
    {
     "data": {
      "text/plain": [
       "1"
      ]
     },
     "execution_count": 240,
     "metadata": {},
     "output_type": "execute_result"
    }
   ],
   "source": [
    "N = check.shape[0]\n",
    "np.abs(check - check1).max()\n"
   ]
  },
  {
   "cell_type": "code",
   "execution_count": null,
   "metadata": {
    "collapsed": false
   },
   "outputs": [],
   "source": []
  },
  {
   "cell_type": "code",
   "execution_count": 134,
   "metadata": {
    "collapsed": false
   },
   "outputs": [
    {
     "data": {
      "text/plain": [
       "(81,)"
      ]
     },
     "execution_count": 134,
     "metadata": {},
     "output_type": "execute_result"
    }
   ],
   "source": [
    "x.shape"
   ]
  },
  {
   "cell_type": "code",
   "execution_count": 135,
   "metadata": {
    "collapsed": false
   },
   "outputs": [
    {
     "data": {
      "text/plain": [
       "(array([], dtype=int64),)"
      ]
     },
     "execution_count": 135,
     "metadata": {},
     "output_type": "execute_result"
    }
   ],
   "source": [
    "import numpy as np\n",
    "np.where(x==0.82403624)"
   ]
  },
  {
   "cell_type": "code",
   "execution_count": 113,
   "metadata": {
    "collapsed": false
   },
   "outputs": [
    {
     "data": {
      "text/plain": [
       "(array([8]),)"
      ]
     },
     "execution_count": 113,
     "metadata": {},
     "output_type": "execute_result"
    }
   ],
   "source": [
    "np.where(x==0.81775689)"
   ]
  },
  {
   "cell_type": "code",
   "execution_count": 114,
   "metadata": {
    "collapsed": false
   },
   "outputs": [
    {
     "data": {
      "text/plain": [
       "array([ 0.49462005,  0.13737926,  0.63217103,  0.88951969,  0.95967758,\n",
       "        0.93269199,  0.01922691,  0.11102214], dtype=float32)"
      ]
     },
     "execution_count": 114,
     "metadata": {},
     "output_type": "execute_result"
    }
   ],
   "source": [
    "y[8:16]"
   ]
  },
  {
   "cell_type": "code",
   "execution_count": 84,
   "metadata": {
    "collapsed": false
   },
   "outputs": [
    {
     "data": {
      "text/plain": [
       "array([ 0.86980486,  0.95739377,  0.45722562,  0.24933068,  0.79062432,\n",
       "        0.41660839,  0.2160219 ,  0.20491999,  0.89854044,  0.18462023,\n",
       "        0.29852843,  0.35963443,  0.6159724 ,  0.72406787,  0.88663906,\n",
       "        0.8957932 ,  0.95089775,  0.81628722,  0.38464957,  0.09199598,\n",
       "        0.84929907,  0.89802736,  0.47384384,  0.32334676,  0.68980533,\n",
       "        0.55929697,  0.85717803,  0.43673065,  0.53199059,  0.61012739,\n",
       "        0.35549074,  0.21740046,  0.72848731,  0.23121756,  0.0925628 ,\n",
       "        0.69927949,  0.2881934 ,  0.51331192,  0.0060772 ,  0.86945933], dtype=float32)"
      ]
     },
     "execution_count": 84,
     "metadata": {},
     "output_type": "execute_result"
    }
   ],
   "source": [
    "y[24:]"
   ]
  },
  {
   "cell_type": "code",
   "execution_count": 85,
   "metadata": {
    "collapsed": false
   },
   "outputs": [
    {
     "data": {
      "text/plain": [
       "array([ 0.19824067,  0.71382284,  0.06260016,  0.73668307,  0.11869724,\n",
       "        0.11193934,  0.72747481,  0.46255267,  0.81613207,  0.77432835,\n",
       "        0.20919167,  0.93272632,  0.14098145,  0.77419633,  0.80323517,\n",
       "        0.90561998,  0.7683695 ,  0.97668117,  0.78336018,  0.56513208,\n",
       "        0.13854954,  0.80031669,  0.46786216,  0.97926974,  0.51297593,\n",
       "        0.30397162,  0.32215321,  0.13564816,  0.71447772,  0.33202007,\n",
       "        0.29784349,  0.80185348,  0.31685761,  0.11355828,  0.39447027,\n",
       "        0.69777393,  0.06081379,  0.44030124,  0.90970933,  0.02768658], dtype=float32)"
      ]
     },
     "execution_count": 85,
     "metadata": {},
     "output_type": "execute_result"
    }
   ],
   "source": [
    "z[24:]"
   ]
  },
  {
   "cell_type": "code",
   "execution_count": 138,
   "metadata": {
    "collapsed": false
   },
   "outputs": [
    {
     "data": {
      "text/plain": [
       "(81,)"
      ]
     },
     "execution_count": 138,
     "metadata": {},
     "output_type": "execute_result"
    }
   ],
   "source": [
    "y.shape"
   ]
  },
  {
   "cell_type": "code",
   "execution_count": 139,
   "metadata": {
    "collapsed": false
   },
   "outputs": [
    {
     "data": {
      "text/plain": [
       "(81,)"
      ]
     },
     "execution_count": 139,
     "metadata": {},
     "output_type": "execute_result"
    }
   ],
   "source": [
    "ct.shape"
   ]
  },
  {
   "cell_type": "code",
   "execution_count": null,
   "metadata": {
    "collapsed": true
   },
   "outputs": [],
   "source": []
  }
 ],
 "metadata": {
  "kernelspec": {
   "display_name": "Python 3",
   "language": "python",
   "name": "python3"
  },
  "language_info": {
   "codemirror_mode": {
    "name": "ipython",
    "version": 3
   },
   "file_extension": ".py",
   "mimetype": "text/x-python",
   "name": "python",
   "nbconvert_exporter": "python",
   "pygments_lexer": "ipython3",
   "version": "3.5.1"
  }
 },
 "nbformat": 4,
 "nbformat_minor": 0
}
